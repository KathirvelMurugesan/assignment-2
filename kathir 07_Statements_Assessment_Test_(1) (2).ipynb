{
  "cells": [
    {
      "cell_type": "markdown",
      "metadata": {
        "collapsed": true,
        "id": "iuP3KY1WxKa-"
      },
      "source": [
        "# Statements Assessment Test\n",
        "Let's test your knowledge!"
      ]
    },
    {
      "cell_type": "markdown",
      "metadata": {
        "id": "C9KNO3VlxKbA"
      },
      "source": [
        "**use for loop to acess the given element of 2D list and print it**"
      ]
    },
    {
      "cell_type": "code",
      "execution_count": null,
      "metadata": {
        "id": "qId0rJ3hxKbB"
      },
      "outputs": [],
      "source": [
        "list2d = [[0, 0, 0, 0, 0], [0, 0, 0, 0, 0], [0, 0, 0, 0, 0], [0, 0, 0, 0, 0], [0, 0, 0, 0, 0]]"
      ]
    },
    {
      "cell_type": "code",
      "execution_count": 19,
      "metadata": {
        "colab": {
          "base_uri": "https://localhost:8080/"
        },
        "id": "lcQ0TYKixKbB",
        "outputId": "70702082-a206-4957-c318-39e60246696f"
      },
      "outputs": [
        {
          "output_type": "stream",
          "name": "stdout",
          "text": [
            "0 0 0 0 0 \n",
            "0 0 0 0 0 \n",
            "0 0 0 0 0 \n",
            "0 0 0 0 0 \n",
            "0 0 0 0 0 \n"
          ]
        }
      ],
      "source": [
        "list2d = [[0, 0, 0, 0, 0], [0, 0, 0, 0, 0], [0, 0, 0, 0, 0], [0, 0, 0, 0, 0], [0, 0, 0, 0, 0]]\n",
        "\n",
        "# Use a for loop to access and print each element\n",
        "for row in list2d:\n",
        "    for element in row:\n",
        "        print(element, end=' ')\n",
        "    print()  # Print a newline after each row\n"
      ]
    },
    {
      "cell_type": "markdown",
      "metadata": {
        "id": "2bLWjmaUxKbB"
      },
      "source": [
        "**change the element in this 2d list. any kind of change you want is acceptable**"
      ]
    },
    {
      "cell_type": "code",
      "execution_count": 20,
      "metadata": {
        "colab": {
          "base_uri": "https://localhost:8080/"
        },
        "id": "uTa5RIy8xKbB",
        "outputId": "7980b3e4-a3b3-4010-d4ca-8e8f7314bdc0"
      },
      "outputs": [
        {
          "output_type": "stream",
          "name": "stdout",
          "text": [
            "[0, 0, 0, 0, 0]\n",
            "[10, 10, 10, 10, 10]\n",
            "[20, 20, 20, 20, 20]\n",
            "[30, 30, 30, 30, 30]\n",
            "[40, 40, 40, 40, 40]\n"
          ]
        }
      ],
      "source": [
        "list2d = [[0, 0, 0, 0, 0], [0, 0, 0, 0, 0], [0, 0, 0, 0, 0], [0, 0, 0, 0, 0], [0, 0, 0, 0, 0]]\n",
        "\n",
        "# Use a nested for loop to change each element\n",
        "for i in range(len(list2d)):\n",
        "    for j in range(len(list2d[i])):\n",
        "        list2d[i][j] = i * 10\n",
        "\n",
        "# Print the modified 2D list\n",
        "for row in list2d:\n",
        "    print(row)\n",
        "\n"
      ]
    },
    {
      "cell_type": "markdown",
      "metadata": {
        "id": "d0MuzH7cxKbB"
      },
      "source": [
        "_____\n",
        "**Use <code>for</code>, .split(), and <code>if</code> to create a Statement that will print out words that start with 's':**"
      ]
    },
    {
      "cell_type": "code",
      "execution_count": 7,
      "metadata": {
        "collapsed": true,
        "id": "XeshqYqSxKbB"
      },
      "outputs": [],
      "source": [
        "st = 'Print only the words that start with s in this sentence'"
      ]
    },
    {
      "cell_type": "code",
      "execution_count": 21,
      "metadata": {
        "collapsed": true,
        "colab": {
          "base_uri": "https://localhost:8080/"
        },
        "id": "8fjBxpfkxKbC",
        "outputId": "dc15dc92-dede-456a-c05a-eb363ddae50f"
      },
      "outputs": [
        {
          "output_type": "stream",
          "name": "stdout",
          "text": [
            "string\n"
          ]
        }
      ],
      "source": [
        "\n",
        "\n",
        "\n",
        "words = st.split()\n",
        "\n",
        "for word in words:\n",
        "    if word.startswith('s') or word.startswith('S'):\n",
        "        print(word)\n",
        "\n"
      ]
    },
    {
      "cell_type": "markdown",
      "metadata": {
        "id": "TgmP7fAqxKbC"
      },
      "source": [
        "______\n",
        "**Use range() to print all the even numbers from 0 to 10.**"
      ]
    },
    {
      "cell_type": "code",
      "execution_count": 10,
      "metadata": {
        "collapsed": true,
        "colab": {
          "base_uri": "https://localhost:8080/"
        },
        "id": "dljHIjROxKbC",
        "outputId": "5ea61072-e43c-46a6-d048-de0e720ec703"
      },
      "outputs": [
        {
          "output_type": "stream",
          "name": "stdout",
          "text": [
            "0\n",
            "2\n",
            "4\n",
            "6\n",
            "8\n",
            "10\n"
          ]
        }
      ],
      "source": [
        "#Code Here# Use range() to print all the even numbers from 0 to 10\n",
        "for num in range(0, 11, 2):\n",
        "    print(num)\n"
      ]
    },
    {
      "cell_type": "markdown",
      "metadata": {
        "id": "zeCt6NUaxKbC"
      },
      "source": [
        "___\n",
        "**Use a List Comprehension to create a list of all numbers between 1 and 50 that are divisible by 3.**"
      ]
    },
    {
      "cell_type": "code",
      "execution_count": 22,
      "metadata": {
        "collapsed": true,
        "colab": {
          "base_uri": "https://localhost:8080/"
        },
        "id": "fwhKqwcGxKbC",
        "outputId": "55fedf3e-cc27-4438-b502-b68b8bea52fa"
      },
      "outputs": [
        {
          "output_type": "stream",
          "name": "stdout",
          "text": [
            "[3, 6, 9, 12, 15, 18, 21, 24, 27, 30, 33, 36, 39, 42, 45, 48]\n"
          ]
        }
      ],
      "source": [
        "#Code in this cell\n",
        "# List comprehension to create a list of numbers divisible by 3 between 1 and 50\n",
        "divisible_by_3 = [num for num in range(1, 51) if num % 3 == 0]\n",
        "\n",
        "print(divisible_by_3)\n"
      ]
    },
    {
      "cell_type": "markdown",
      "metadata": {
        "id": "Im1rD5VcxKbC"
      },
      "source": [
        "_____\n",
        "**Go through the string below and if the length of a word is even print \"even!\"**"
      ]
    },
    {
      "cell_type": "code",
      "execution_count": null,
      "metadata": {
        "collapsed": true,
        "id": "EfgcYNjfxKbC"
      },
      "outputs": [],
      "source": [
        "st = 'Print every word in this sentence that has an even number of letters'"
      ]
    },
    {
      "cell_type": "code",
      "execution_count": 12,
      "metadata": {
        "collapsed": true,
        "colab": {
          "base_uri": "https://localhost:8080/"
        },
        "id": "faaiq5oBxKbC",
        "outputId": "8869543c-ad5f-44ef-8de8-39ca1cf66f46"
      },
      "outputs": [
        {
          "output_type": "stream",
          "name": "stdout",
          "text": [
            "even!\n",
            "even!\n",
            "even!\n",
            "even!\n",
            "even!\n",
            "even!\n"
          ]
        }
      ],
      "source": [
        "\n",
        "\n",
        "# Split the sentence into words\n",
        "words = st.split()\n",
        "\n",
        "# Use a for loop and an if statement to print \"even!\" for words with even length\n",
        "for word in words:\n",
        "    if len(word) % 2 == 0:\n",
        "        print(\"even!\")\n"
      ]
    },
    {
      "cell_type": "markdown",
      "metadata": {
        "id": "WUFWVksExKbD"
      },
      "source": [
        "**write an example of do while loop,**"
      ]
    },
    {
      "cell_type": "code",
      "execution_count": 24,
      "metadata": {
        "colab": {
          "base_uri": "https://localhost:8080/"
        },
        "id": "b0swJX9YxKbD",
        "outputId": "d226c6b1-c4f8-422f-c360-7ed087f78dbf"
      },
      "outputs": [
        {
          "output_type": "stream",
          "name": "stdout",
          "text": [
            "This is iteration 0\n",
            "This is iteration 1\n",
            "This is iteration 2\n",
            "This is iteration 3\n",
            "This is iteration 4\n"
          ]
        }
      ],
      "source": [
        "#Code in this cell# Example of a do-while loop in Python\n",
        "\n",
        "count = 0\n",
        "\n",
        "while True:\n",
        "\n",
        "    print(\"This is iteration\", count)\n",
        "\n",
        "\n",
        "    count += 1\n",
        "\n",
        "    if count >= 5:\n",
        "        break\n",
        "\n"
      ]
    },
    {
      "cell_type": "markdown",
      "metadata": {
        "id": "NkrC5wsFxKbD"
      },
      "source": [
        "____\n",
        "**Write a program that prints the integers from 1 to 100. But for multiples of three print \"Fizz\" instead of the number, and for the multiples of five print \"Buzz\". For numbers which are multiples of both three and five print \"FizzBuzz\".**"
      ]
    },
    {
      "cell_type": "code",
      "execution_count": 14,
      "metadata": {
        "collapsed": true,
        "colab": {
          "base_uri": "https://localhost:8080/"
        },
        "id": "Kh6iTtBqxKbD",
        "outputId": "0b3dad0a-db44-4dee-fbff-8763959fe8b9"
      },
      "outputs": [
        {
          "output_type": "stream",
          "name": "stdout",
          "text": [
            "1\n",
            "2\n",
            "Fizz\n",
            "4\n",
            "Buzz\n",
            "Fizz\n",
            "7\n",
            "8\n",
            "Fizz\n",
            "Buzz\n",
            "11\n",
            "Fizz\n",
            "13\n",
            "14\n",
            "FizzBuzz\n",
            "16\n",
            "17\n",
            "Fizz\n",
            "19\n",
            "Buzz\n",
            "Fizz\n",
            "22\n",
            "23\n",
            "Fizz\n",
            "Buzz\n",
            "26\n",
            "Fizz\n",
            "28\n",
            "29\n",
            "FizzBuzz\n",
            "31\n",
            "32\n",
            "Fizz\n",
            "34\n",
            "Buzz\n",
            "Fizz\n",
            "37\n",
            "38\n",
            "Fizz\n",
            "Buzz\n",
            "41\n",
            "Fizz\n",
            "43\n",
            "44\n",
            "FizzBuzz\n",
            "46\n",
            "47\n",
            "Fizz\n",
            "49\n",
            "Buzz\n",
            "Fizz\n",
            "52\n",
            "53\n",
            "Fizz\n",
            "Buzz\n",
            "56\n",
            "Fizz\n",
            "58\n",
            "59\n",
            "FizzBuzz\n",
            "61\n",
            "62\n",
            "Fizz\n",
            "64\n",
            "Buzz\n",
            "Fizz\n",
            "67\n",
            "68\n",
            "Fizz\n",
            "Buzz\n",
            "71\n",
            "Fizz\n",
            "73\n",
            "74\n",
            "FizzBuzz\n",
            "76\n",
            "77\n",
            "Fizz\n",
            "79\n",
            "Buzz\n",
            "Fizz\n",
            "82\n",
            "83\n",
            "Fizz\n",
            "Buzz\n",
            "86\n",
            "Fizz\n",
            "88\n",
            "89\n",
            "FizzBuzz\n",
            "91\n",
            "92\n",
            "Fizz\n",
            "94\n",
            "Buzz\n",
            "Fizz\n",
            "97\n",
            "98\n",
            "Fizz\n",
            "Buzz\n"
          ]
        }
      ],
      "source": [
        "#Code in this cell# FizzBuzz program\n",
        "for num in range(1, 101):\n",
        "    if num % 3 == 0 and num % 5 == 0:\n",
        "        print(\"FizzBuzz\")\n",
        "    elif num % 3 == 0:\n",
        "        print(\"Fizz\")\n",
        "    elif num % 5 == 0:\n",
        "        print(\"Buzz\")\n",
        "    else:\n",
        "        print(num)\n"
      ]
    },
    {
      "cell_type": "markdown",
      "metadata": {
        "id": "Nx6HUq3lxKbD"
      },
      "source": [
        "____\n",
        "**Use List Comprehension to create a list of the first letters of every word in the string below:**"
      ]
    },
    {
      "cell_type": "code",
      "execution_count": null,
      "metadata": {
        "collapsed": true,
        "id": "xv5w-AFmxKbD"
      },
      "outputs": [],
      "source": [
        "st = 'Create a list of the first letters of every word in this string'"
      ]
    },
    {
      "cell_type": "code",
      "execution_count": 25,
      "metadata": {
        "collapsed": true,
        "colab": {
          "base_uri": "https://localhost:8080/"
        },
        "id": "yEyULrlPxKbD",
        "outputId": "ec8d2e14-573d-4ce0-be7a-2a26d80810e9"
      },
      "outputs": [
        {
          "output_type": "stream",
          "name": "stdout",
          "text": [
            "['C', 'a', 'l', 'o', 't', 'f', 'l', 'o', 'e', 'w', 'i', 't', 's']\n"
          ]
        }
      ],
      "source": [
        "#Code in t# String\n",
        "\n",
        "\n",
        "\n",
        "first_letters = [word[0] for word in st.split()]\n",
        "\n",
        "print(first_letters)\n"
      ]
    },
    {
      "cell_type": "markdown",
      "metadata": {
        "id": "63mwjeRBxKbD"
      },
      "source": [
        "**Give an example of nested list comprehension**"
      ]
    },
    {
      "cell_type": "code",
      "execution_count": 26,
      "metadata": {
        "colab": {
          "base_uri": "https://localhost:8080/"
        },
        "id": "KcGvuLpIxKbD",
        "outputId": "1afa14f8-381e-45e9-9095-11d942062009"
      },
      "outputs": [
        {
          "output_type": "stream",
          "name": "stdout",
          "text": [
            "[1, 2, 3]\n",
            "[4, 5, 6]\n",
            "[7, 8, 9]\n"
          ]
        }
      ],
      "source": [
        "#Code in this cell\n",
        "# Nested list comprehension to create a 3x3 matrix\n",
        "matrix = [[row * 3 + col + 1 for col in range(3)] for row in range(3)]\n",
        "\n",
        "\n",
        "for row in matrix:\n",
        "    print(row)\n"
      ]
    },
    {
      "cell_type": "markdown",
      "metadata": {
        "id": "eQI-bU5VxKbD"
      },
      "source": [
        "### Great Job!"
      ]
    }
  ],
  "metadata": {
    "kernelspec": {
      "display_name": "Python 3",
      "language": "python",
      "name": "python3"
    },
    "language_info": {
      "codemirror_mode": {
        "name": "ipython",
        "version": 3
      },
      "file_extension": ".py",
      "mimetype": "text/x-python",
      "name": "python",
      "nbconvert_exporter": "python",
      "pygments_lexer": "ipython3",
      "version": "3.6.8"
    },
    "colab": {
      "provenance": []
    }
  },
  "nbformat": 4,
  "nbformat_minor": 0
}